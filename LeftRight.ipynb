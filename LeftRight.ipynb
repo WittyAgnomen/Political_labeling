{
 "cells": [
  {
   "cell_type": "markdown",
   "metadata": {},
   "source": [
    "# I. Definition\n",
    "\n",
    "## Project Overview\n",
    "\n",
    "\n",
    "http://www.journalism.org/2016/05/26/news-use-across-social-media-platforms-2016/ [1]\n",
    "\n",
    "#### Motivating Story\n",
    "\n",
    "I saw a facebook post on an aquantence's wall recently that - and though these kind of posts are common - left me discomforted. It was a post from a popular facebook figure that stated he wanted to perform a social experiment. He asked his followers to look at their friend's lists and record the amount of likes for each of the main presendential candidates. His call to action produced a long list where everyone had a large number of likes for Candidate A and a low number of likes for candidate B. The figure than stated that if candidate B won it could only be becuse of cheating and refered to his experiment as the reason. \n",
    "\n",
    "I posted comment that said, Imagine you are at a Cold Play concert (Any band name would do). Then after the concert, you ask people outside if they like coldplay. Obviosuly you should expect almost all to say yes. Yet would this be good evidence of all liking Cold Play. Obviously not, what this example and that facebook experiment fail to account for is bias. Neither instance uses a random sample to perform their experiment and because of that, you are left with descriptive characteristics of the population they test on, and that population gives no good information on the general public. Well, my comment didn't reach the people the way I hoped for and instead was met with explitives and other fun comments. \n",
    "\n",
    "But that is not the purpose of this long winded anecdote, the point is much more poignant. We live in a world where 6 out 10 people get there news from social media [1]. That means we as a user reinforce certain biases on ourself by choice. Whether its the friends we choose, the people we follow, or the things we block, we block ourself to certain ideas and reinforce ideas we like. This creates an unbelievably biased enviroment, but most people don't realize it. They think they are getting a ecceltic view of the world because they are online, or because their self created reality tells them they are open minded. The truth is they aren't, and everyone is being biased in one way or another because of this enviroment. Now, obviosuly there are other sources to obtain news, but they are biased as well and only add more fodder for the setup. \n",
    "\n",
    "#### High Level Overview\n",
    "\n",
    "Now, I obviosly have no idea how to deconstruct all the world's bias and educate people to it - plus I am biased as well. But I do have a small idea that uses **machine learning** that may help. The idea is to create a supervized learning algorthm that can identify political bais in news articles. More specifically, a convolutional neural net (refered to CNN from here on out) with three layers that will classify an article as left (liberal) or right (conservative). Therefore, the input will be an article and the output will be one of two labels. \n",
    "\n",
    "After initial research, I have noticed a large academic literature in communications and pyschology. And they gave me the idea to teach the model using  \n"
   ]
  },
  {
   "cell_type": "markdown",
   "metadata": {},
   "source": [
    "## Problem Statement\n",
    "\n",
    "In this section, you will want to clearly define the problem that you are trying to solve, including the strategy (outline of tasks) you will use to achieve the desired solution. You should also thoroughly discuss what the intended solution will be for this problem. Questions to ask yourself when writing this section:\n",
    "\n",
    "Is the problem statement clearly defined? Will the reader understand what you are expecting to solve?\n",
    "Have you thoroughly discussed how you will attempt to solve the problem?\n",
    "Is an anticipated solution clearly defined? Will the reader understand what results you are looking for?\n",
    "\n",
    "The goal is implement a machine learning classification algorthm that can idenify ,label, political bias as left or right. To do this we will use a CNN, not on the article level, but on the sentence level. We will then create a metric of combining the sentences labels to ultimately label wheter the entire article is left or right leaning. \n",
    "\n",
    "The steps to accomplish this follow:\n",
    "1. Collect and hand label an article set for testing. We will limit this set to political articles for now. Though eventually, it would be cool if we could identify political bias in non political articles. (i.e. pick on a political bias in a new technolgy article)\n",
    "2. Collect and label a sentence pool for training. The sentences will come from the senate and house of representative floor transcripts, think tank policy papers, politicain speeches, etc. The idea is to collect sentences directly from a politician or party and just label them what ever the politican or party is. We will ignore third party candidates and don't worry about moderate positions at the moment.\n",
    "3. Learn a 3-layered CNN to classify sentences.\n",
    "4. Construct a function to use the sentence labels from an article to label an article. Some examples are: simple vote, using only the first 20 sentences, instead of using labels from the CNN use the second to last layer, which are the probabilities and create a function around them, etc\n",
    "5. Test the learning schemes and decide on the best; specificaclly, best accuaracy\n",
    "\n",
    "## Metrics\n",
    "\n",
    "Accuaracy\n"
   ]
  },
  {
   "cell_type": "code",
   "execution_count": null,
   "metadata": {
    "collapsed": true
   },
   "outputs": [],
   "source": []
  }
 ],
 "metadata": {
  "kernelspec": {
   "display_name": "Python [dato-env]",
   "language": "python",
   "name": "Python [dato-env]"
  },
  "language_info": {
   "codemirror_mode": {
    "name": "ipython",
    "version": 2
   },
   "file_extension": ".py",
   "mimetype": "text/x-python",
   "name": "python",
   "nbconvert_exporter": "python",
   "pygments_lexer": "ipython2",
   "version": "2.7.12"
  }
 },
 "nbformat": 4,
 "nbformat_minor": 0
}
