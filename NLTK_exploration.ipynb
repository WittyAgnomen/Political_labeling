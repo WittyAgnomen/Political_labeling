{
 "cells": [
  {
   "cell_type": "markdown",
   "metadata": {},
   "source": [
    "# NLTK Exploration on Senate Floor Transcripts\n",
    "\n",
    "for more infomration check out these sites\n",
    "http://www.nltk.org/_modules/nltk/text.html\n",
    "http://www.nltk.org/book/ch01.html"
   ]
  },
  {
   "cell_type": "code",
   "execution_count": 53,
   "metadata": {
    "collapsed": false
   },
   "outputs": [],
   "source": [
    "#import mdoules\n",
    "import nltk\n",
    "#nltk.download() #need to do this for first run if you dont have certain modules installled\n",
    "import pandas as pd\n",
    "from nltk import word_tokenize #for word tokenie\n",
    "from __future__ import division #for div\n",
    "from nltk.book import * #for FreqDist\n",
    "\n",
    "#load floor sentences in data frame\n",
    "df=pd.read_csv('testsent.csv')"
   ]
  },
  {
   "cell_type": "code",
   "execution_count": 2,
   "metadata": {
    "collapsed": false
   },
   "outputs": [
    {
     "data": {
      "text/html": [
       "<div>\n",
       "<table border=\"1\" class=\"dataframe\">\n",
       "  <thead>\n",
       "    <tr style=\"text-align: right;\">\n",
       "      <th></th>\n",
       "      <th>label</th>\n",
       "      <th>sentences</th>\n",
       "    </tr>\n",
       "  </thead>\n",
       "  <tbody>\n",
       "    <tr>\n",
       "      <th>0</th>\n",
       "      <td>D</td>\n",
       "      <td>i thank the gentleman for yielding me this tim...</td>\n",
       "    </tr>\n",
       "    <tr>\n",
       "      <th>1</th>\n",
       "      <td>D</td>\n",
       "      <td>this bill would say to these people  the answe...</td>\n",
       "    </tr>\n",
       "    <tr>\n",
       "      <th>2</th>\n",
       "      <td>R</td>\n",
       "      <td>mr chairman  i rise in strong support of the s...</td>\n",
       "    </tr>\n",
       "    <tr>\n",
       "      <th>3</th>\n",
       "      <td>R</td>\n",
       "      <td>mr speaker  pursuant to house resolution  i ca...</td>\n",
       "    </tr>\n",
       "    <tr>\n",
       "      <th>4</th>\n",
       "      <td>R</td>\n",
       "      <td>mr speaker  for the purpose of debate only  i ...</td>\n",
       "    </tr>\n",
       "  </tbody>\n",
       "</table>\n",
       "</div>"
      ],
      "text/plain": [
       "  label                                          sentences\n",
       "0     D  i thank the gentleman for yielding me this tim...\n",
       "1     D  this bill would say to these people  the answe...\n",
       "2     R  mr chairman  i rise in strong support of the s...\n",
       "3     R  mr speaker  pursuant to house resolution  i ca...\n",
       "4     R  mr speaker  for the purpose of debate only  i ..."
      ]
     },
     "execution_count": 2,
     "metadata": {},
     "output_type": "execute_result"
    }
   ],
   "source": [
    "df.head()"
   ]
  },
  {
   "cell_type": "code",
   "execution_count": 3,
   "metadata": {
    "collapsed": true
   },
   "outputs": [],
   "source": [
    "#split data into right and left data frames\n",
    "right=df.loc[df['label'] == 'R']\n",
    "left=df.loc[df['label'] == 'D']"
   ]
  },
  {
   "cell_type": "code",
   "execution_count": 4,
   "metadata": {
    "collapsed": false
   },
   "outputs": [
    {
     "name": "stdout",
     "output_type": "stream",
     "text": [
      "2566\n"
     ]
    },
    {
     "data": {
      "text/html": [
       "<div>\n",
       "<table border=\"1\" class=\"dataframe\">\n",
       "  <thead>\n",
       "    <tr style=\"text-align: right;\">\n",
       "      <th></th>\n",
       "      <th>label</th>\n",
       "      <th>sentences</th>\n",
       "    </tr>\n",
       "  </thead>\n",
       "  <tbody>\n",
       "    <tr>\n",
       "      <th>2</th>\n",
       "      <td>R</td>\n",
       "      <td>mr chairman  i rise in strong support of the s...</td>\n",
       "    </tr>\n",
       "    <tr>\n",
       "      <th>3</th>\n",
       "      <td>R</td>\n",
       "      <td>mr speaker  pursuant to house resolution  i ca...</td>\n",
       "    </tr>\n",
       "    <tr>\n",
       "      <th>4</th>\n",
       "      <td>R</td>\n",
       "      <td>mr speaker  for the purpose of debate only  i ...</td>\n",
       "    </tr>\n",
       "    <tr>\n",
       "      <th>11</th>\n",
       "      <td>R</td>\n",
       "      <td>mr speaker  i rise today in support of h r   w...</td>\n",
       "    </tr>\n",
       "    <tr>\n",
       "      <th>12</th>\n",
       "      <td>R</td>\n",
       "      <td>mr speaker  on that i demand the yeas and nays</td>\n",
       "    </tr>\n",
       "  </tbody>\n",
       "</table>\n",
       "</div>"
      ],
      "text/plain": [
       "   label                                          sentences\n",
       "2      R  mr chairman  i rise in strong support of the s...\n",
       "3      R  mr speaker  pursuant to house resolution  i ca...\n",
       "4      R  mr speaker  for the purpose of debate only  i ...\n",
       "11     R  mr speaker  i rise today in support of h r   w...\n",
       "12     R     mr speaker  on that i demand the yeas and nays"
      ]
     },
     "execution_count": 4,
     "metadata": {},
     "output_type": "execute_result"
    }
   ],
   "source": [
    "#len of right\n",
    "print len(right)\n",
    "\n",
    "#head of right\n",
    "right.head()"
   ]
  },
  {
   "cell_type": "code",
   "execution_count": 5,
   "metadata": {
    "collapsed": false
   },
   "outputs": [
    {
     "name": "stdout",
     "output_type": "stream",
     "text": [
      "2942\n"
     ]
    },
    {
     "data": {
      "text/html": [
       "<div>\n",
       "<table border=\"1\" class=\"dataframe\">\n",
       "  <thead>\n",
       "    <tr style=\"text-align: right;\">\n",
       "      <th></th>\n",
       "      <th>label</th>\n",
       "      <th>sentences</th>\n",
       "    </tr>\n",
       "  </thead>\n",
       "  <tbody>\n",
       "    <tr>\n",
       "      <th>0</th>\n",
       "      <td>D</td>\n",
       "      <td>i thank the gentleman for yielding me this tim...</td>\n",
       "    </tr>\n",
       "    <tr>\n",
       "      <th>1</th>\n",
       "      <td>D</td>\n",
       "      <td>this bill would say to these people  the answe...</td>\n",
       "    </tr>\n",
       "    <tr>\n",
       "      <th>5</th>\n",
       "      <td>D</td>\n",
       "      <td>mr chairman  i yield myself such time as i may...</td>\n",
       "    </tr>\n",
       "    <tr>\n",
       "      <th>6</th>\n",
       "      <td>D</td>\n",
       "      <td>mr speaker  further parliamentary inquiry  wha...</td>\n",
       "    </tr>\n",
       "    <tr>\n",
       "      <th>7</th>\n",
       "      <td>D</td>\n",
       "      <td>mr speaker  i come to the floor today in stron...</td>\n",
       "    </tr>\n",
       "  </tbody>\n",
       "</table>\n",
       "</div>"
      ],
      "text/plain": [
       "  label                                          sentences\n",
       "0     D  i thank the gentleman for yielding me this tim...\n",
       "1     D  this bill would say to these people  the answe...\n",
       "5     D  mr chairman  i yield myself such time as i may...\n",
       "6     D  mr speaker  further parliamentary inquiry  wha...\n",
       "7     D  mr speaker  i come to the floor today in stron..."
      ]
     },
     "execution_count": 5,
     "metadata": {},
     "output_type": "execute_result"
    }
   ],
   "source": [
    "#len of left\n",
    "print len(left)\n",
    "\n",
    "#head of left\n",
    "left.head()"
   ]
  },
  {
   "cell_type": "code",
   "execution_count": 12,
   "metadata": {
    "collapsed": false
   },
   "outputs": [],
   "source": [
    "#save right sentecnes to a single string\n",
    "r_str=''\n",
    "for s in list(right['sentences']):\n",
    "    r_str+=str(s)+'. '\n",
    "\n",
    "#cave left sentences to a single string\n",
    "l_str=''\n",
    "for s in list(left['sentences']):\n",
    "    l_str+=str(s)+'. '"
   ]
  },
  {
   "cell_type": "code",
   "execution_count": 19,
   "metadata": {
    "collapsed": false
   },
   "outputs": [
    {
     "name": "stdout",
     "output_type": "stream",
     "text": [
      "3088849\n",
      "mr chairman  i rise in strong support of the school readiness act  let me \n"
     ]
    }
   ],
   "source": [
    "#get len of string (char)\n",
    "print len(r_str)\n",
    "#print first few chars\n",
    "print r_str[:74]"
   ]
  },
  {
   "cell_type": "code",
   "execution_count": 34,
   "metadata": {
    "collapsed": false
   },
   "outputs": [
    {
     "name": "stdout",
     "output_type": "stream",
     "text": [
      "538163\n"
     ]
    },
    {
     "data": {
      "text/plain": [
       "['mr',\n",
       " 'chairman',\n",
       " 'i',\n",
       " 'rise',\n",
       " 'in',\n",
       " 'strong',\n",
       " 'support',\n",
       " 'of',\n",
       " 'the',\n",
       " 'school',\n",
       " 'readiness',\n",
       " 'act',\n",
       " 'let',\n",
       " 'me']"
      ]
     },
     "execution_count": 34,
     "metadata": {},
     "output_type": "execute_result"
    }
   ],
   "source": [
    "#tokenize string\n",
    "token_r = word_tokenize(r_str)\n",
    "#type\n",
    "type(token_r)\n",
    "#number of tokens\n",
    "print len(token_r)\n",
    "#print first few tokens\n",
    "token_r[:14]"
   ]
  },
  {
   "cell_type": "code",
   "execution_count": 24,
   "metadata": {
    "collapsed": false
   },
   "outputs": [
    {
     "name": "stdout",
     "output_type": "stream",
     "text": [
      "['`consumers', '`flawed', '`healthy', '`help', '`hey', '`human', '`i', '`it', '`magic', '`mommy', '`nondeductible', '`off', '`pluripotent', '`pro', '`product', '`qualified']\n",
      "15184\n"
     ]
    }
   ],
   "source": [
    "#get total unique vocab\n",
    "vocab_r = sorted(set(token_r))\n",
    "#print a subset of vocab_r\n",
    "print vocab_r[4:20]\n",
    "#unique tokens\n",
    "print len(vocab_r)"
   ]
  },
  {
   "cell_type": "code",
   "execution_count": 33,
   "metadata": {
    "collapsed": false
   },
   "outputs": [
    {
     "data": {
      "text/plain": [
       "538163"
      ]
     },
     "execution_count": 33,
     "metadata": {},
     "output_type": "execute_result"
    }
   ],
   "source": [
    "#set token_r as text_r\n",
    "text_r=nltk.Text(token_r)\n",
    "#make sure len is same as token list, it is\n",
    "len(text_r)"
   ]
  },
  {
   "cell_type": "code",
   "execution_count": 41,
   "metadata": {
    "collapsed": false
   },
   "outputs": [
    {
     "name": "stdout",
     "output_type": "stream",
     "text": [
      "0.0282145000678\n"
     ]
    }
   ],
   "source": [
    "# calculate a measure of the lexical richness of the text\n",
    "#distinct words/total amount of words\n",
    "print len(set(text_r))/ len(text_r)"
   ]
  },
  {
   "cell_type": "code",
   "execution_count": 42,
   "metadata": {
    "collapsed": false
   },
   "outputs": [
    {
     "data": {
      "text/plain": [
       "35.44276870389884"
      ]
     },
     "execution_count": 42,
     "metadata": {},
     "output_type": "execute_result"
    }
   ],
   "source": [
    "#each word is used 35 times on average\n",
    "len(text_r)/len(set(text_r))"
   ]
  },
  {
   "cell_type": "code",
   "execution_count": 46,
   "metadata": {
    "collapsed": false
   },
   "outputs": [
    {
     "name": "stdout",
     "output_type": "stream",
     "text": [
      "0.00278725962208\n",
      "0.0806447117323\n",
      "0.0109632211802\n"
     ]
    }
   ],
   "source": [
    "#count how often a word occurs in a text, and compute what percentage \n",
    "#of the text is taken up by a specific word\n",
    "print 100 * text_r.count('gun') / len(text_r)\n",
    "print 100 * text_r.count('america') / len(text_r)\n",
    "print 100 * text_r.count('democracy') / len(text_r)"
   ]
  },
  {
   "cell_type": "code",
   "execution_count": 29,
   "metadata": {
    "collapsed": false
   },
   "outputs": [
    {
     "name": "stdout",
     "output_type": "stream",
     "text": [
      "Displaying 15 of 15 matches:\n",
      "s that if a juvenile possesses a hand gun he will have to have a written note s\n",
      "n will stop baseless lawsuits against gun manufacturers or dealers based on the\n",
      " which have rejected this theory that gun manufacturers should be held liable f\n",
      "once bragged we are going to make the gun industry die a `` death by a thousand\n",
      "es of contract criminal behavior by a gun maker or seller or the negligent entr\n",
      "tion of the right to private property gun control orwellian big government mr s\n",
      "the afternoon mr speaker in regard to gun manufacturers mr speaker let me just \n",
      "nity from the frivolous lawsuits that gun manufacturers have faced now for many\n",
      "e is no direct connection now between gun manufacturers and crimes that are com\n",
      "f the balance of my time mr speaker a gun by its very nature must be dangerous \n",
      "igence per se for example supplying a gun or ammunition to a person when the se\n",
      "suit involving the d c sniper and the gun the sniper obtained after it was stol\n",
      "it was stolen from a washington state gun shop that did not keep track of its i\n",
      "rearms regarding the washington state gun dealer it contains a record of dozens\n",
      "gic i heard the gentleman say immoral gun boat diplomacy contempt for the u n n\n"
     ]
    }
   ],
   "source": [
    "#show the word gun and some context\n",
    "text_r.concordance(\"gun\")"
   ]
  },
  {
   "cell_type": "code",
   "execution_count": 30,
   "metadata": {
    "collapsed": false
   },
   "outputs": [
    {
     "name": "stdout",
     "output_type": "stream",
     "text": [
      "section firearm process policy good food day week year report\n",
      "gentleman state case bill moment record citation corps results gang\n"
     ]
    }
   ],
   "source": [
    "#get similar to gun\n",
    "text_r.similar(\"gun\")"
   ]
  },
  {
   "cell_type": "code",
   "execution_count": 31,
   "metadata": {
    "collapsed": false
   },
   "outputs": [
    {
     "name": "stdout",
     "output_type": "stream",
     "text": [
      "a_or that_manufacturers\n"
     ]
    }
   ],
   "source": [
    "#common_contexts allows us to examine just the contexts that are shared by two or more words\n",
    "text_r.common_contexts([\"gun\", \"firearm\"])"
   ]
  },
  {
   "cell_type": "code",
   "execution_count": 32,
   "metadata": {
    "collapsed": true
   },
   "outputs": [],
   "source": [
    "#\n",
    "text_r.dispersion_plot([\"citizens\", \"democracy\", \"freedom\", \"gun\", \"america\"])"
   ]
  },
  {
   "cell_type": "markdown",
   "metadata": {},
   "source": [
    "<img src=\"text_r.png\" alt=\"disp_view\" style=\"width:600px;height:400px;\">"
   ]
  },
  {
   "cell_type": "code",
   "execution_count": 47,
   "metadata": {
    "collapsed": false
   },
   "outputs": [
    {
     "name": "stdout",
     "output_type": "stream",
     "text": [
      "united states; stem cell; stem cells; embryonic stem; small\n",
      "businesses; patriot act; may consume; small business; amp nbsp; cell\n",
      "research; homeland security; cord blood; madam speaker; health care;\n",
      "death tax; would like; conference report; law enforcement; american\n",
      "people; class action\n"
     ]
    }
   ],
   "source": [
    "#get bigrams/colactions\n",
    "text_r.collocations()"
   ]
  },
  {
   "cell_type": "code",
   "execution_count": 56,
   "metadata": {
    "collapsed": false
   },
   "outputs": [
    {
     "name": "stdout",
     "output_type": "stream",
     "text": [
      "<FreqDist with 15184 samples and 538163 outcomes>\n",
      "[('the', 32358), ('to', 17549), ('of', 16230), ('and', 15309), ('that', 11445), ('in', 9849), ('a', 9330), ('is', 8512), ('i', 8011), ('we', 7102), ('this', 6905), ('for', 6076), ('it', 5004), ('have', 4651), ('are', 4502), ('on', 4160), ('not', 4019), ('mr', 3308), ('as', 3125), ('with', 2947), ('be', 2946), ('our', 2938), ('from', 2818), ('they', 2719), ('.', 2520), ('bill', 2479), ('will', 2374), ('s', 2352), ('by', 2090), ('speaker', 2047), ('my', 1983), ('has', 1978), ('do', 1955), ('would', 1915), ('their', 1905), ('but', 1781), ('an', 1779), ('time', 1667), ('or', 1656), ('at', 1637), ('all', 1593), ('can', 1555), ('chairman', 1554), ('there', 1496), ('who', 1486), ('was', 1455), ('about', 1415), ('you', 1396), ('what', 1388), ('these', 1377)]\n",
      "15\n"
     ]
    }
   ],
   "source": [
    "#\n",
    "fdistr = FreqDist(text_r)\n",
    "print fdistr\n",
    "\n",
    "print fdistr.most_common(50) \n",
    "\n",
    "print fdistr['gun']"
   ]
  },
  {
   "cell_type": "code",
   "execution_count": null,
   "metadata": {
    "collapsed": true
   },
   "outputs": [],
   "source": []
  }
 ],
 "metadata": {
  "kernelspec": {
   "display_name": "Python [dato-env]",
   "language": "python",
   "name": "Python [dato-env]"
  },
  "language_info": {
   "codemirror_mode": {
    "name": "ipython",
    "version": 2
   },
   "file_extension": ".py",
   "mimetype": "text/x-python",
   "name": "python",
   "nbconvert_exporter": "python",
   "pygments_lexer": "ipython2",
   "version": "2.7.12"
  }
 },
 "nbformat": 4,
 "nbformat_minor": 0
}
